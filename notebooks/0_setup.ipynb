{
  "cells": [
    {
      "cell_type": "markdown",
      "metadata": {
        "vscode": {
          "languageId": "raw"
        }
      },
      "source": [
        "# Setup: Hierarchical EEG Processing with Attention 🧠⚙️\n",
        "\n",
        "**Complete setup guide for exploring the EEG attention mechanisms codebase**\n",
        "\n",
        "This notebook will help you get everything set up to explore the breakthrough attention mechanisms for EEG processing. We'll clone the repository, set up the environment, and verify everything works!\n",
        "\n",
        "## 🎯 What we'll accomplish:\n",
        "1. **Repository Cloning**: Get the latest code from Git\n",
        "2. **Environment Setup**: Install Python dependencies\n",
        "3. **Data Preparation**: Set up BCI Competition IV data paths\n",
        "4. **Verification**: Test that all modules work correctly\n",
        "5. **Notebook Overview**: Guide to the exploration notebooks\n",
        "\n",
        "Let's get started! 🚀\n"
      ]
    },
    {
      "cell_type": "markdown",
      "metadata": {
        "vscode": {
          "languageId": "raw"
        }
      },
      "source": [
        "## 📥 Step 1: Clone the Repository\n",
        "\n",
        "First, let's clone the repository containing all the attention mechanism implementations and breakthrough results!\n",
        "\n",
        "**🔄 UPDATE REQUIRED**: You'll need to replace the repository URL below with your actual Git repository URL.\n"
      ]
    },
    {
      "cell_type": "code",
      "execution_count": 4,
      "metadata": {},
      "outputs": [
        {
          "name": "stdout",
          "output_type": "stream",
          "text": [
            "🔧 Setting up Hierarchical EEG Processing with Attention...\n",
            "📍 Repository: https://github.com/yuckyman/HRM-EEG.git\n",
            "📥 Cloning repository...\n",
            "❌ Error cloning repository: Command '['git', 'clone', 'https://github.com/yuckyman/HRM-EEG.git', 'HRM-EEG']' returned non-zero exit status 128.\n",
            "📝 Error output: fatal: destination path 'HRM-EEG' already exists and is not an empty directory.\n",
            "\n",
            "\n",
            "💡 Manual setup instructions:\n",
            "   1. Open terminal/command prompt\n",
            "   2. Run: git clone https://github.com/yuckyman/HRM-EEG.git\n",
            "   3. Run: cd HRM-EEG\n",
            "   4. Start Jupyter: jupyter lab\n"
          ]
        },
        {
          "ename": "CalledProcessError",
          "evalue": "Command '['git', 'clone', 'https://github.com/yuckyman/HRM-EEG.git', 'HRM-EEG']' returned non-zero exit status 128.",
          "output_type": "error",
          "traceback": [
            "\u001b[0;31m---------------------------------------------------------------------------\u001b[0m",
            "\u001b[0;31mCalledProcessError\u001b[0m                        Traceback (most recent call last)",
            "Cell \u001b[0;32mIn[4], line 24\u001b[0m\n\u001b[1;32m     20\u001b[0m \u001b[38;5;28mprint\u001b[39m(\u001b[38;5;124mf\u001b[39m\u001b[38;5;124m\"\u001b[39m\u001b[38;5;124m📥 Cloning repository...\u001b[39m\u001b[38;5;124m\"\u001b[39m)\n\u001b[1;32m     22\u001b[0m \u001b[38;5;28;01mtry\u001b[39;00m:\n\u001b[1;32m     23\u001b[0m     \u001b[38;5;66;03m# Clone with subprocess\u001b[39;00m\n\u001b[0;32m---> 24\u001b[0m     result \u001b[38;5;241m=\u001b[39m \u001b[43msubprocess\u001b[49m\u001b[38;5;241;43m.\u001b[39;49m\u001b[43mrun\u001b[49m\u001b[43m(\u001b[49m\n\u001b[1;32m     25\u001b[0m \u001b[43m        \u001b[49m\u001b[43m[\u001b[49m\u001b[38;5;124;43m\"\u001b[39;49m\u001b[38;5;124;43mgit\u001b[39;49m\u001b[38;5;124;43m\"\u001b[39;49m\u001b[43m,\u001b[49m\u001b[43m \u001b[49m\u001b[38;5;124;43m\"\u001b[39;49m\u001b[38;5;124;43mclone\u001b[39;49m\u001b[38;5;124;43m\"\u001b[39;49m\u001b[43m,\u001b[49m\u001b[43m \u001b[49m\u001b[43mREPO_URL\u001b[49m\u001b[43m,\u001b[49m\u001b[43m \u001b[49m\u001b[43mPROJECT_NAME\u001b[49m\u001b[43m]\u001b[49m\u001b[43m,\u001b[49m\n\u001b[1;32m     26\u001b[0m \u001b[43m        \u001b[49m\u001b[43mcapture_output\u001b[49m\u001b[38;5;241;43m=\u001b[39;49m\u001b[38;5;28;43;01mTrue\u001b[39;49;00m\u001b[43m,\u001b[49m\n\u001b[1;32m     27\u001b[0m \u001b[43m        \u001b[49m\u001b[43mtext\u001b[49m\u001b[38;5;241;43m=\u001b[39;49m\u001b[38;5;28;43;01mTrue\u001b[39;49;00m\u001b[43m,\u001b[49m\n\u001b[1;32m     28\u001b[0m \u001b[43m        \u001b[49m\u001b[43mcheck\u001b[49m\u001b[38;5;241;43m=\u001b[39;49m\u001b[38;5;28;43;01mTrue\u001b[39;49;00m\n\u001b[1;32m     29\u001b[0m \u001b[43m    \u001b[49m\u001b[43m)\u001b[49m\n\u001b[1;32m     30\u001b[0m     \u001b[38;5;28mprint\u001b[39m(\u001b[38;5;124m\"\u001b[39m\u001b[38;5;124m✅ Repository cloned successfully!\u001b[39m\u001b[38;5;124m\"\u001b[39m)\n\u001b[1;32m     31\u001b[0m     project_path \u001b[38;5;241m=\u001b[39m Path(PROJECT_NAME)\n",
            "File \u001b[0;32m/opt/conda/lib/python3.11/subprocess.py:571\u001b[0m, in \u001b[0;36mrun\u001b[0;34m(input, capture_output, timeout, check, *popenargs, **kwargs)\u001b[0m\n\u001b[1;32m    569\u001b[0m     retcode \u001b[38;5;241m=\u001b[39m process\u001b[38;5;241m.\u001b[39mpoll()\n\u001b[1;32m    570\u001b[0m     \u001b[38;5;28;01mif\u001b[39;00m check \u001b[38;5;129;01mand\u001b[39;00m retcode:\n\u001b[0;32m--> 571\u001b[0m         \u001b[38;5;28;01mraise\u001b[39;00m CalledProcessError(retcode, process\u001b[38;5;241m.\u001b[39margs,\n\u001b[1;32m    572\u001b[0m                                  output\u001b[38;5;241m=\u001b[39mstdout, stderr\u001b[38;5;241m=\u001b[39mstderr)\n\u001b[1;32m    573\u001b[0m \u001b[38;5;28;01mreturn\u001b[39;00m CompletedProcess(process\u001b[38;5;241m.\u001b[39margs, retcode, stdout, stderr)\n",
            "\u001b[0;31mCalledProcessError\u001b[0m: Command '['git', 'clone', 'https://github.com/yuckyman/HRM-EEG.git', 'HRM-EEG']' returned non-zero exit status 128."
          ]
        }
      ],
      "source": [
        "import os\n",
        "import subprocess\n",
        "import sys\n",
        "from pathlib import Path\n",
        "\n",
        "# Repository URL - Hierarchical EEG Processing with Attention Mechanisms\n",
        "REPO_URL = \"https://github.com/yuckyman/HRM-EEG.git\"\n",
        "PROJECT_NAME = \"HRM-EEG\"\n",
        "\n",
        "print(\"🔧 Setting up Hierarchical EEG Processing with Attention...\")\n",
        "print(f\"📍 Repository: {REPO_URL}\")\n",
        "\n",
        "# Check if we're already in the repository\n",
        "current_dir = Path.cwd()\n",
        "if (current_dir / 'attention_hierarchical_processor.py').exists():\n",
        "    print(\"✅ Already in the repository directory!\")\n",
        "    project_path = current_dir\n",
        "else:\n",
        "    # Clone the repository\n",
        "    print(f\"📥 Cloning repository...\")\n",
        "    \n",
        "    try:\n",
        "        # Clone with subprocess\n",
        "        result = subprocess.run(\n",
        "            [\"git\", \"clone\", REPO_URL, PROJECT_NAME],\n",
        "            capture_output=True,\n",
        "            text=True,\n",
        "            check=True\n",
        "        )\n",
        "        print(\"✅ Repository cloned successfully!\")\n",
        "        project_path = Path(PROJECT_NAME)\n",
        "        \n",
        "    except subprocess.CalledProcessError as e:\n",
        "        print(f\"❌ Error cloning repository: {e}\")\n",
        "        print(f\"📝 Error output: {e.stderr}\")\n",
        "        print(f\"\\n💡 Manual setup instructions:\")\n",
        "        print(f\"   1. Open terminal/command prompt\")\n",
        "        print(f\"   2. Run: git clone {REPO_URL}\")\n",
        "        print(f\"   3. Run: cd {PROJECT_NAME}\")\n",
        "        print(f\"   4. Start Jupyter: jupyter lab\")\n",
        "        raise\n",
        "\n",
        "print(f\"📁 Project location: {project_path.absolute()}\")\n",
        "\n",
        "# Change to project directory\n",
        "os.chdir(project_path)\n",
        "print(f\"📍 Changed to project directory: {Path.cwd()}\")\n"
      ]
    },
    {
      "cell_type": "markdown",
      "metadata": {
        "vscode": {
          "languageId": "raw"
        }
      },
      "source": [
        "## 🐍 Step 2: Environment Setup & Dependencies\n",
        "\n",
        "Now let's install all the required Python packages for the EEG attention mechanisms.\n"
      ]
    },
    {
      "cell_type": "code",
      "execution_count": null,
      "metadata": {},
      "outputs": [
        {
          "name": "stdout",
          "output_type": "stream",
          "text": [
            "🐍 Python version: 3.11.6 | packaged by conda-forge | (main, Oct  3 2023, 10:40:35) [GCC 12.3.0]\n",
            "📍 Python executable: /opt/conda/bin/python\n",
            "\n",
            "📦 Installing required packages...\n",
            "(This may take a few minutes)\n",
            "📦 Installing torch>=1.12.0...\n",
            "   ✅ torch>=1.12.0 installed successfully\n",
            "📦 Installing numpy>=1.21.0...\n",
            "   ✅ numpy>=1.21.0 installed successfully\n",
            "📦 Installing matplotlib>=3.5.0...\n",
            "   ✅ matplotlib>=3.5.0 installed successfully\n",
            "📦 Installing seaborn>=0.11.0...\n",
            "   ✅ seaborn>=0.11.0 installed successfully\n",
            "📦 Installing scikit-learn>=1.1.0...\n",
            "   ✅ scikit-learn>=1.1.0 installed successfully\n",
            "📦 Installing einops>=0.4.0...\n",
            "   ✅ einops>=0.4.0 installed successfully\n",
            "📦 Installing mne>=1.0.0...\n",
            "   ✅ mne>=1.0.0 installed successfully\n",
            "📦 Installing jupyter>=1.0.0...\n",
            "   ✅ jupyter>=1.0.0 installed successfully\n",
            "📦 Installing ipywidgets>=7.7.0...\n",
            "   ✅ ipywidgets>=7.7.0 installed successfully\n",
            "📦 Installing tqdm>=4.64.0...\n",
            "   ✅ tqdm>=4.64.0 installed successfully\n",
            "📦 Installing pandas>=1.4.0...\n",
            "   ✅ pandas>=1.4.0 installed successfully\n",
            "📦 Installing scipy>=1.8.0...\n",
            "   ✅ scipy>=1.8.0 installed successfully\n",
            "\n",
            "🎉 Package installation complete!\n"
          ]
        }
      ],
      "source": [
        "# Check Python version\n",
        "print(f\"🐍 Python version: {sys.version}\")\n",
        "print(f\"📍 Python executable: {sys.executable}\")\n",
        "\n",
        "# Required packages for the hierarchical EEG processing pipeline\n",
        "required_packages = [\n",
        "    \"torch>=1.12.0\",           # PyTorch for neural networks\n",
        "    \"numpy>=1.21.0\",           # Numerical computing\n",
        "    \"matplotlib>=3.5.0\",       # Plotting and visualization\n",
        "    \"seaborn>=0.11.0\",         # Statistical visualization\n",
        "    \"scikit-learn>=1.1.0\",     # Machine learning utilities\n",
        "    \"einops>=0.4.0\",           # Tensor operations library\n",
        "    \"mne>=1.0.0\",              # EEG/MEG data processing and analysis\n",
        "    \"jupyter>=1.0.0\",          # Jupyter notebook support\n",
        "    \"ipywidgets>=7.7.0\",       # Interactive widgets\n",
        "    \"tqdm>=4.64.0\",            # Progress bars\n",
        "    \"pandas>=1.4.0\",           # Data manipulation\n",
        "    \"scipy>=1.8.0\",            # Scientific computing\n",
        "]\n",
        "\n",
        "print(\"\\n📦 Installing required packages...\")\n",
        "print(\"(This may take a few minutes)\")\n",
        "\n",
        "for package in required_packages:\n",
        "    print(f\"📦 Installing {package}...\")\n",
        "    try:\n",
        "        result = subprocess.run(\n",
        "            [sys.executable, \"-m\", \"pip\", \"install\", package],\n",
        "            capture_output=True,\n",
        "            text=True,\n",
        "            check=True\n",
        "        )\n",
        "        print(f\"   ✅ {package} installed successfully\")\n",
        "    except subprocess.CalledProcessError as e:\n",
        "        print(f\"   ⚠️  Warning: Could not install {package}\")\n",
        "        print(f\"   Error: {e.stderr}\")\n",
        "\n",
        "print(\"\\n🎉 Package installation complete!\")\n"
      ]
    },
    {
      "cell_type": "markdown",
      "metadata": {
        "vscode": {
          "languageId": "raw"
        }
      },
      "source": [
        "## 🧪 Step 3: Verify Installation\n",
        "\n",
        "Let's test that all the core modules import correctly and are working as expected.\n"
      ]
    },
    {
      "cell_type": "code",
      "execution_count": null,
      "metadata": {},
      "outputs": [
        {
          "name": "stdout",
          "output_type": "stream",
          "text": [
            "🧪 Testing module imports...\n",
            "✅ 🔢 NumPy imported successfully\n",
            "✅ 🔥 PyTorch imported successfully\n",
            "✅ 📊 Matplotlib imported successfully\n",
            "✅ 🎨 Seaborn imported successfully\n",
            "✅ 🤖 Scikit-learn imported successfully\n",
            "✅ 🔄 Einops imported successfully\n",
            "✅ 🧠 MNE (EEG/MEG) imported successfully\n",
            "\n",
            "📊 Import Summary:\n",
            "   ✅ Successful: 7/7\n"
          ]
        }
      ],
      "source": [
        "print(\"🧪 Testing module imports...\")\n",
        "\n",
        "# Test basic packages\n",
        "import_tests = [\n",
        "    (\"numpy\", \"np\", \"🔢 NumPy\"),\n",
        "    (\"torch\", \"torch\", \"🔥 PyTorch\"),\n",
        "    (\"matplotlib.pyplot\", \"plt\", \"📊 Matplotlib\"),\n",
        "    (\"seaborn\", \"sns\", \"🎨 Seaborn\"),\n",
        "    (\"sklearn\", \"sklearn\", \"🤖 Scikit-learn\"),\n",
        "    (\"einops\", \"einops\", \"🔄 Einops\"),\n",
        "    (\"mne\", \"mne\", \"🧠 MNE (EEG/MEG)\"),\n",
        "]\n",
        "\n",
        "successful_imports = []\n",
        "failed_imports = []\n",
        "\n",
        "for module_name, import_as, display_name in import_tests:\n",
        "    try:\n",
        "        exec(f\"import {module_name} as {import_as}\")\n",
        "        print(f\"✅ {display_name} imported successfully\")\n",
        "        successful_imports.append(display_name)\n",
        "    except ImportError as e:\n",
        "        print(f\"❌ {display_name} import failed: {e}\")\n",
        "        failed_imports.append(display_name)\n",
        "\n",
        "print(f\"\\n📊 Import Summary:\")\n",
        "print(f\"   ✅ Successful: {len(successful_imports)}/{len(import_tests)}\")\n",
        "if failed_imports:\n",
        "    print(f\"   ❌ Failed: {', '.join(failed_imports)}\")\n"
      ]
    },
    {
      "cell_type": "code",
      "execution_count": null,
      "metadata": {},
      "outputs": [
        {
          "name": "stdout",
          "output_type": "stream",
          "text": [
            "🧠 Testing EEG processing modules...\n",
            "✅ 🎯 Attention Hierarchical Processor imported successfully\n",
            "✅ 🧠 EEG Hierarchical Processor imported successfully\n",
            "✅ 🔬 Attention BCI Experiment imported successfully\n",
            "✅ 🚀 BCI Experiment Runner imported successfully\n",
            "\n",
            "🧠 EEG Module Summary:\n",
            "   ✅ Successful: 4/4\n",
            "\n",
            "🧪 Quick Functionality Test:\n",
            "✅ Using device: cpu\n",
            "✅ HierarchicalEEGProcessor created successfully\n",
            "⚠️  Basic test failed: HierarchicalEEGProcessor.generate_synthetic_data() got an unexpected keyword argument 'n_samples'\n",
            "💡 Try restarting the kernel and running again\n"
          ]
        }
      ],
      "source": [
        "# Test EEG processing modules\n",
        "print(\"🧠 Testing EEG processing modules...\")\n",
        "\n",
        "eeg_modules = [\n",
        "    (\"attention_hierarchical_processor\", \"🎯 Attention Hierarchical Processor\"),\n",
        "    (\"eeg_hierarchical_processor\", \"🧠 EEG Hierarchical Processor\"),\n",
        "    (\"attention_bci_experiment\", \"🔬 Attention BCI Experiment\"),\n",
        "    (\"run_bci_experiment\", \"🚀 BCI Experiment Runner\"),\n",
        "]\n",
        "\n",
        "successful_eeg = []\n",
        "failed_eeg = []\n",
        "\n",
        "for module_name, display_name in eeg_modules:\n",
        "    try:\n",
        "        exec(f\"import {module_name}\")\n",
        "        print(f\"✅ {display_name} imported successfully\")\n",
        "        successful_eeg.append(display_name)\n",
        "    except ImportError as e:\n",
        "        print(f\"❌ {display_name} import failed: {e}\")\n",
        "        failed_eeg.append(display_name)\n",
        "\n",
        "print(f\"\\n🧠 EEG Module Summary:\")\n",
        "print(f\"   ✅ Successful: {len(successful_eeg)}/{len(eeg_modules)}\")\n",
        "if failed_eeg:\n",
        "    print(f\"   ❌ Failed: {', '.join(failed_eeg)}\")\n",
        "    print(f\"   💡 Make sure you're in the correct project directory!\")\n",
        "\n",
        "# Quick functionality test\n",
        "if len(successful_eeg) >= 2:  # If most modules loaded\n",
        "    print(f\"\\n🧪 Quick Functionality Test:\")\n",
        "    try:\n",
        "        from eeg_hierarchical_processor import HierarchicalEEGProcessor\n",
        "        import torch\n",
        "        import numpy as np\n",
        "        \n",
        "        # Test device\n",
        "        device = torch.device('cuda' if torch.cuda.is_available() else 'cpu')\n",
        "        print(f\"✅ Using device: {device}\")\n",
        "        \n",
        "        # Test basic hierarchical processor\n",
        "        processor = HierarchicalEEGProcessor()\n",
        "        print(f\"✅ HierarchicalEEGProcessor created successfully\")\n",
        "        \n",
        "        # Test synthetic data generation\n",
        "        X, y = processor.generate_synthetic_data(n_samples=100, n_timepoints=1000)\n",
        "        print(f\"✅ Synthetic data test: X={X.shape}, y={y.shape}\")\n",
        "        print(f\"🎉 ALL SYSTEMS GO! Ready to explore hierarchical EEG processing!\")\n",
        "        \n",
        "    except Exception as e:\n",
        "        print(f\"⚠️  Basic test failed: {e}\")\n",
        "        print(f\"💡 Try restarting the kernel and running again\")\n"
      ]
    },
    {
      "cell_type": "markdown",
      "metadata": {
        "vscode": {
          "languageId": "raw"
        }
      },
      "source": [
        "## 📚 Step 4: Notebook Explorer Guide\n",
        "\n",
        "You're all set! Here's your guide to exploring the attention mechanisms.\n"
      ]
    },
    {
      "cell_type": "code",
      "execution_count": null,
      "metadata": {},
      "outputs": [
        {
          "name": "stdout",
          "output_type": "stream",
          "text": [
            "🧠 HIERARCHICAL EEG PROCESSING FRAMEWORK:\n",
            "============================================================\n",
            "🔧 🧠 Core Hierarchical Framework\n",
            "   File: eeg_hierarchical_processor.py\n",
            "   📖 Understand the baseline hierarchical EEG processing framework with synthetic data\n",
            "   🏷️  Type: Core Implementation\n",
            "\n",
            "🔧 🎯 Attention-Based Processing\n",
            "   File: attention_hierarchical_processor.py\n",
            "   📖 Explore attention mechanisms applied to hierarchical EEG analysis\n",
            "   🏷️  Type: Advanced Feature\n",
            "\n",
            "🔧 🚀 BCI Competition Experiments\n",
            "   File: run_bci_experiment.py\n",
            "   📖 Run experiments on real BCI Competition IV dataset\n",
            "   🏷️  Type: Real Data Application\n",
            "\n",
            "🔧 🔬 Attention BCI Analysis\n",
            "   File: attention_bci_experiment.py\n",
            "   📖 Apply attention mechanisms to BCI classification tasks\n",
            "   🏷️  Type: Research Application\n",
            "\n",
            "🎉 Total available scripts: 4\n",
            "\n",
            "🚀 RECOMMENDED EXPLORATION PATH:\n",
            "========================================\n",
            "1. 🧠 Start with eeg_hierarchical_processor.py for the core framework\n",
            "2. 🎯 Explore attention_hierarchical_processor.py for attention mechanisms\n",
            "3. 🔬 Try attention_bci_experiment.py for BCI applications\n",
            "4. 🚀 Run run_bci_experiment.py for real data experiments\n",
            "5. 🛠️  Check debug/ and tests/ folders for utilities\n",
            "\n",
            "💡 TIPS FOR EXPLORATION:\n",
            "=========================\n",
            "• 🧠 Start with synthetic data to understand the hierarchical concepts\n",
            "• 🎯 The framework compares fast vs slow processing timescales\n",
            "• 🔬 Attention mechanisms show which features matter most\n",
            "• 📊 Model comparison utilities help evaluate different approaches\n",
            "• 🚀 Real BCI data experiments validate the methods\n",
            "\n",
            "✨ Happy exploring the hierarchical EEG processing framework! 🧠⚡\n"
          ]
        }
      ],
      "source": [
        "print(\"🧠 HIERARCHICAL EEG PROCESSING FRAMEWORK:\")\n",
        "print(\"=\" * 60)\n",
        "\n",
        "# Key scripts and their purposes based on the repository\n",
        "key_scripts = {\n",
        "    \"eeg_hierarchical_processor.py\": {\n",
        "        \"title\": \"🧠 Core Hierarchical Framework\",\n",
        "        \"description\": \"Understand the baseline hierarchical EEG processing framework with synthetic data\",\n",
        "        \"type\": \"Core Implementation\"\n",
        "    },\n",
        "    \"attention_hierarchical_processor.py\": {\n",
        "        \"title\": \"🎯 Attention-Based Processing\", \n",
        "        \"description\": \"Explore attention mechanisms applied to hierarchical EEG analysis\",\n",
        "        \"type\": \"Advanced Feature\"\n",
        "    },\n",
        "    \"run_bci_experiment.py\": {\n",
        "        \"title\": \"🚀 BCI Competition Experiments\",\n",
        "        \"description\": \"Run experiments on real BCI Competition IV dataset\",\n",
        "        \"type\": \"Real Data Application\"\n",
        "    },\n",
        "    \"attention_bci_experiment.py\": {\n",
        "        \"title\": \"🔬 Attention BCI Analysis\",\n",
        "        \"description\": \"Apply attention mechanisms to BCI classification tasks\",\n",
        "        \"type\": \"Research Application\"\n",
        "    }\n",
        "}\n",
        "\n",
        "# Check which scripts exist and provide guide\n",
        "available_scripts = []\n",
        "\n",
        "for script_file, info in key_scripts.items():\n",
        "    script_path = Path(script_file)\n",
        "    if script_path.exists():\n",
        "        available_scripts.append(script_file)\n",
        "        print(f\"🔧 {info['title']}\")\n",
        "        print(f\"   File: {script_file}\")\n",
        "        print(f\"   📖 {info['description']}\")\n",
        "        print(f\"   🏷️  Type: {info['type']}\")\n",
        "        print()\n",
        "\n",
        "print(f\"🎉 Total available scripts: {len(available_scripts)}\")\n",
        "\n",
        "print(f\"\\n🚀 RECOMMENDED EXPLORATION PATH:\")\n",
        "print(f\"=\" * 40)\n",
        "print(f\"1. 🧠 Start with eeg_hierarchical_processor.py for the core framework\")\n",
        "print(f\"2. 🎯 Explore attention_hierarchical_processor.py for attention mechanisms\")\n",
        "print(f\"3. 🔬 Try attention_bci_experiment.py for BCI applications\")\n",
        "print(f\"4. 🚀 Run run_bci_experiment.py for real data experiments\")\n",
        "print(f\"5. 🛠️  Check debug/ and tests/ folders for utilities\")\n",
        "\n",
        "print(f\"\\n💡 TIPS FOR EXPLORATION:\")\n",
        "print(f\"=\" * 25)\n",
        "print(f\"• 🧠 Start with synthetic data to understand the hierarchical concepts\")\n",
        "print(f\"• 🎯 The framework compares fast vs slow processing timescales\")\n",
        "print(f\"• 🔬 Attention mechanisms show which features matter most\")\n",
        "print(f\"• 📊 Model comparison utilities help evaluate different approaches\")\n",
        "print(f\"• 🚀 Real BCI data experiments validate the methods\")\n",
        "\n",
        "print(f\"\\n✨ Happy exploring the hierarchical EEG processing framework! 🧠⚡\")\n"
      ]
    },
    {
      "cell_type": "markdown",
      "metadata": {
        "vscode": {
          "languageId": "raw"
        }
      },
      "source": [
        "## ✅ Setup Complete!\n",
        "\n",
        "🎉 **Congratulations!** Your environment is now ready to explore the hierarchical EEG processing framework with embodied priors.\n",
        "\n",
        "### 🎯 What you've accomplished:\n",
        "- ✅ [HRM-EEG repository](https://github.com/yuckyman/HRM-EEG) cloned and set up\n",
        "- ✅ Python dependencies installed (PyTorch, NumPy, MNE, etc.)\n",
        "- ✅ All core modules verified and working\n",
        "- ✅ Hierarchical EEG processor tested successfully\n",
        "- ✅ Ready to explore the framework!\n",
        "\n",
        "### 🚀 Next Steps:\n",
        "1. **Start with fundamentals**: Run `eeg_hierarchical_processor.py` to understand the core concepts\n",
        "2. **Explore attention**: Try `attention_hierarchical_processor.py` for attention-based processing\n",
        "3. **Real data experiments**: Use `run_bci_experiment.py` for BCI Competition IV data\n",
        "4. **Research applications**: Explore `attention_bci_experiment.py` for advanced analysis\n",
        "\n",
        "### 💡 Remember:\n",
        "- The framework compares fast vs slow processing timescales\n",
        "- Synthetic data helps understand hierarchical concepts first\n",
        "- Attention mechanisms reveal which features matter most\n",
        "- Model comparison utilities evaluate different approaches\n",
        "- Real BCI data validates the research methods\n",
        "\n",
        "**Ready to explore the fascinating world of hierarchical EEG processing!** 🧠⚡🚀\n"
      ]
    }
  ],
  "metadata": {
    "kernelspec": {
      "display_name": "Python 3 (ipykernel)",
      "language": "python",
      "name": "python3"
    },
    "language_info": {
      "codemirror_mode": {
        "name": "ipython",
        "version": 3
      },
      "file_extension": ".py",
      "mimetype": "text/x-python",
      "name": "python",
      "nbconvert_exporter": "python",
      "pygments_lexer": "ipython3",
      "version": "3.11.6"
    }
  },
  "nbformat": 4,
  "nbformat_minor": 2
}
