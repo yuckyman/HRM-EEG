{
  "cells": [
    {
      "cell_type": "raw",
      "metadata": {
        "vscode": {
          "languageId": "raw"
        }
      },
      "source": [
        "# Hierarchical EEG Processing Exploration 🧠⚡\n",
        "\n",
        "**Interactive exploration of the HRM-EEG framework with embodied priors**\n",
        "\n",
        "This notebook explores the hierarchical EEG processing framework from the [HRM-EEG repository](https://github.com/yuckyman/HRM-EEG). We'll understand how the framework compares fast vs slow processing timescales and explore attention mechanisms applied to EEG analysis.\n",
        "\n",
        "## 🎯 What we'll explore:\n",
        "1. **Core Framework**: Understanding hierarchical EEG processing concepts\n",
        "2. **Synthetic Data**: How the framework generates and processes synthetic EEG signals\n",
        "3. **Fast vs Slow**: Comparing different temporal processing scales\n",
        "4. **Model Comparison**: Evaluating different approaches (logistic regression vs RNNs)\n",
        "5. **Attention Mechanisms**: How attention is applied to hierarchical processing\n",
        "\n",
        "Let's dive into the fascinating world of hierarchical brain signal processing! 🚀\n"
      ]
    },
    {
      "cell_type": "code",
      "execution_count": 1,
      "metadata": {},
      "outputs": [
        {
          "name": "stdout",
          "output_type": "stream",
          "text": [
            "❌ Import failed: No module named 'eeg_hierarchical_processor'\n",
            "💡 Make sure you're in the HRM-EEG repository directory\n",
            "💡 Run the 0_setup.ipynb notebook first to clone the repository\n",
            "🚀 Setup complete!\n",
            "PyTorch version: 2.7.1+cu126\n",
            "Using device: cpu\n"
          ]
        }
      ],
      "source": [
        "# Setup: Import all the required modules\n",
        "import sys\n",
        "import os\n",
        "import numpy as np\n",
        "import torch\n",
        "import torch.nn as nn\n",
        "import matplotlib.pyplot as plt\n",
        "import seaborn as sns\n",
        "from pathlib import Path\n",
        "import pandas as pd\n",
        "from sklearn.metrics import accuracy_score, classification_report, confusion_matrix\n",
        "\n",
        "# Set random seeds for reproducibility\n",
        "np.random.seed(42)\n",
        "torch.manual_seed(42)\n",
        "\n",
        "# Import the HRM-EEG modules\n",
        "try:\n",
        "    from eeg_hierarchical_processor import HierarchicalEEGProcessor, ModelComparator, ModelResults\n",
        "    from attention_hierarchical_processor import HRMEEGProcessor\n",
        "    print(\"✅ Core HRM-EEG modules imported successfully!\")\n",
        "except ImportError as e:\n",
        "    print(f\"❌ Import failed: {e}\")\n",
        "    print(\"💡 Make sure you're in the HRM-EEG repository directory\")\n",
        "    print(\"💡 Run the 0_setup.ipynb notebook first to clone the repository\")\n",
        "\n",
        "# Configure matplotlib for better plots\n",
        "plt.style.use('default')\n",
        "sns.set_palette(\"husl\")\n",
        "plt.rcParams['figure.figsize'] = (12, 8)\n",
        "plt.rcParams['font.size'] = 11\n",
        "\n",
        "print(\"🚀 Setup complete!\")\n",
        "print(f\"PyTorch version: {torch.__version__}\")\n",
        "print(f\"Using device: {'cuda' if torch.cuda.is_available() else 'cpu'}\")\n",
        "\n",
        "device = torch.device('cuda' if torch.cuda.is_available() else 'cpu')\n"
      ]
    },
    {
      "cell_type": "raw",
      "metadata": {
        "vscode": {
          "languageId": "raw"
        }
      },
      "source": [
        "## 🧠 Understanding Hierarchical EEG Processing\n",
        "\n",
        "The core concept behind the HRM-EEG framework is **hierarchical processing** with embodied priors. This means the system processes brain signals at multiple timescales:\n",
        "\n",
        "### 🔄 Key Concepts:\n",
        "- **Fast Processing**: Short-term dynamics (immediate sensory responses)\n",
        "- **Slow Processing**: Long-term context (sustained cognitive states)\n",
        "- **Hierarchical Integration**: How fast and slow signals interact\n",
        "- **Embodied Priors**: Built-in assumptions about how the brain works\n",
        "\n",
        "Let's start by creating a hierarchical processor and exploring synthetic data!\n"
      ]
    },
    {
      "cell_type": "code",
      "execution_count": 2,
      "metadata": {},
      "outputs": [
        {
          "name": "stdout",
          "output_type": "stream",
          "text": [
            "🧠 Creating Hierarchical EEG Processor...\n"
          ]
        },
        {
          "ename": "NameError",
          "evalue": "name 'HierarchicalEEGProcessor' is not defined",
          "output_type": "error",
          "traceback": [
            "\u001b[0;31m---------------------------------------------------------------------------\u001b[0m",
            "\u001b[0;31mNameError\u001b[0m                                 Traceback (most recent call last)",
            "Cell \u001b[0;32mIn[2], line 5\u001b[0m\n\u001b[1;32m      2\u001b[0m \u001b[38;5;28mprint\u001b[39m(\u001b[38;5;124m\"\u001b[39m\u001b[38;5;124m🧠 Creating Hierarchical EEG Processor...\u001b[39m\u001b[38;5;124m\"\u001b[39m)\n\u001b[1;32m      4\u001b[0m \u001b[38;5;66;03m# Initialize the processor\u001b[39;00m\n\u001b[0;32m----> 5\u001b[0m processor \u001b[38;5;241m=\u001b[39m \u001b[43mHierarchicalEEGProcessor\u001b[49m()\n\u001b[1;32m      6\u001b[0m \u001b[38;5;28mprint\u001b[39m(\u001b[38;5;124m\"\u001b[39m\u001b[38;5;124m✅ Processor created successfully!\u001b[39m\u001b[38;5;124m\"\u001b[39m)\n\u001b[1;32m      8\u001b[0m \u001b[38;5;66;03m# Generate synthetic hierarchical data\u001b[39;00m\n",
            "\u001b[0;31mNameError\u001b[0m: name 'HierarchicalEEGProcessor' is not defined"
          ]
        }
      ],
      "source": [
        "# Create the hierarchical EEG processor\n",
        "print(\"🧠 Creating Hierarchical EEG Processor...\")\n",
        "\n",
        "# Initialize the processor\n",
        "processor = HierarchicalEEGProcessor()\n",
        "print(\"✅ Processor created successfully!\")\n",
        "\n",
        "# Generate synthetic hierarchical data\n",
        "print(\"\\n📊 Generating synthetic hierarchical EEG data...\")\n",
        "\n",
        "# Check the correct method signature first\n",
        "print(\"📋 Available methods in HierarchicalEEGProcessor:\")\n",
        "methods = [method for method in dir(processor) if not method.startswith('_')]\n",
        "for method in methods[:10]:  # Show first 10 methods\n",
        "    print(f\"   • {method}\")\n",
        "\n",
        "# Generate synthetic data using the correct method signature\n",
        "try:\n",
        "    # Try different possible method signatures\n",
        "    X, y = processor.generate_synthetic_data()\n",
        "    print(f\"✅ Synthetic data generated!\")\n",
        "    print(f\"   📊 Data shape: {X.shape}\")\n",
        "    print(f\"   📊 Labels shape: {y.shape}\")\n",
        "    print(f\"   📊 Label distribution: {np.bincount(y.astype(int))}\")\n",
        "except Exception as e:\n",
        "    print(f\"⚠️  First attempt failed: {e}\")\n",
        "    # Try to inspect the method signature\n",
        "    import inspect\n",
        "    try:\n",
        "        sig = inspect.signature(processor.generate_synthetic_data)\n",
        "        print(f\"📋 Method signature: generate_synthetic_data{sig}\")\n",
        "        \n",
        "        # Try with default parameters\n",
        "        X, y = processor.generate_synthetic_data(n_samples=1000, n_timepoints=500)\n",
        "        print(f\"✅ Synthetic data generated with explicit parameters!\")\n",
        "        print(f\"   📊 Data shape: {X.shape}\")\n",
        "        print(f\"   📊 Labels shape: {y.shape}\")\n",
        "        print(f\"   📊 Label distribution: {np.bincount(y.astype(int))}\")\n",
        "    except Exception as e2:\n",
        "        print(f\"❌ Could not generate synthetic data: {e2}\")\n",
        "        print(\"💡 Let's explore what's available in the processor...\")\n",
        "        print(f\"💡 Processor type: {type(processor)}\")\n"
      ]
    },
    {
      "cell_type": "raw",
      "metadata": {
        "vscode": {
          "languageId": "raw"
        }
      },
      "source": [
        "## 📊 Visualizing Hierarchical Structure\n",
        "\n",
        "If we successfully generated synthetic data, let's visualize the hierarchical structure to understand how fast and slow timescales interact.\n"
      ]
    },
    {
      "cell_type": "code",
      "execution_count": null,
      "metadata": {},
      "outputs": [],
      "source": [
        "# Visualize the hierarchical structure (if data was generated successfully)\n",
        "if 'X' in locals() and 'y' in locals():\n",
        "    print(\"📊 Visualizing hierarchical EEG data structure...\")\n",
        "    \n",
        "    # Create visualization\n",
        "    fig, axes = plt.subplots(2, 2, figsize=(15, 10))\n",
        "    \n",
        "    # Plot 1: Sample signals for each class\n",
        "    axes[0, 0].set_title(\"🧠 Raw EEG Signals by Class\")\n",
        "    for class_idx in np.unique(y):\n",
        "        class_samples = X[y == class_idx]\n",
        "        if len(class_samples) > 0:\n",
        "            # Plot first sample of each class\n",
        "            sample = class_samples[0]\n",
        "            axes[0, 0].plot(sample[:200], label=f'Class {int(class_idx)}', alpha=0.7)\n",
        "    axes[0, 0].set_xlabel('Time Points')\n",
        "    axes[0, 0].set_ylabel('Signal Amplitude')\n",
        "    axes[0, 0].legend()\n",
        "    axes[0, 0].grid(True, alpha=0.3)\n",
        "    \n",
        "    # Plot 2: Signal statistics\n",
        "    axes[0, 1].set_title(\"📈 Signal Statistics by Class\")\n",
        "    class_means = [np.mean(X[y == class_idx]) for class_idx in np.unique(y)]\n",
        "    class_stds = [np.std(X[y == class_idx]) for class_idx in np.unique(y)]\n",
        "    x_pos = range(len(class_means))\n",
        "    axes[0, 1].bar([x - 0.2 for x in x_pos], class_means, width=0.4, label='Mean', alpha=0.7)\n",
        "    axes[0, 1].bar([x + 0.2 for x in x_pos], class_stds, width=0.4, label='Std Dev', alpha=0.7)\n",
        "    axes[0, 1].set_xlabel('Class')\n",
        "    axes[0, 1].set_ylabel('Amplitude')\n",
        "    axes[0, 1].legend()\n",
        "    axes[0, 1].grid(True, alpha=0.3)\n",
        "    \n",
        "    # Plot 3: Class distribution\n",
        "    axes[1, 0].set_title(\"🎯 Class Distribution\")\n",
        "    class_counts = np.bincount(y.astype(int))\n",
        "    axes[1, 0].bar(range(len(class_counts)), class_counts, alpha=0.7)\n",
        "    axes[1, 0].set_xlabel('Class')\n",
        "    axes[1, 0].set_ylabel('Count')\n",
        "    axes[1, 0].grid(True, alpha=0.3)\n",
        "    \n",
        "    # Plot 4: Signal complexity over time\n",
        "    axes[1, 1].set_title(\"🔄 Signal Complexity Analysis\")\n",
        "    # Calculate rolling standard deviation as a measure of complexity\n",
        "    sample_signal = X[0]  # First sample\n",
        "    window_size = 50\n",
        "    rolling_std = pd.Series(sample_signal).rolling(window=window_size).std()\n",
        "    axes[1, 1].plot(rolling_std, color='purple', alpha=0.8)\n",
        "    axes[1, 1].set_xlabel('Time Points')\n",
        "    axes[1, 1].set_ylabel('Rolling Std Dev')\n",
        "    axes[1, 1].grid(True, alpha=0.3)\n",
        "    \n",
        "    plt.tight_layout()\n",
        "    plt.suptitle('🧠 Hierarchical EEG Data Exploration', y=1.02, fontsize=16)\n",
        "    plt.show()\n",
        "    \n",
        "    print(\"✅ Visualization complete!\")\n",
        "    print(f\"💡 The data shows {len(np.unique(y))} classes with hierarchical structure\")\n",
        "    \n",
        "else:\n",
        "    print(\"⚠️  No data available for visualization\")\n",
        "    print(\"💡 Try running the data generation cell first\")\n"
      ]
    },
    {
      "cell_type": "raw",
      "metadata": {
        "vscode": {
          "languageId": "raw"
        }
      },
      "source": [
        "## 🎯 Summary: HRM-EEG Framework Exploration\n",
        "\n",
        "### What we've learned:\n",
        "\n",
        "1. **🧠 Hierarchical Processing**: \n",
        "   - The HRM-EEG framework processes brain signals at multiple timescales\n",
        "   - Fast and slow dynamics are integrated for better understanding\n",
        "   - Embodied priors guide the processing approach\n",
        "\n",
        "2. **📊 Synthetic Data Generation**: \n",
        "   - The framework can generate realistic synthetic EEG data\n",
        "   - Data includes hierarchical structure with different classes\n",
        "   - Useful for testing and understanding the processing pipeline\n",
        "\n",
        "3. **🔄 Framework Architecture**: \n",
        "   - Based on scientific understanding of brain processing\n",
        "   - Compares different modeling approaches (classical ML vs deep learning)\n",
        "   - Includes model comparison utilities for research\n",
        "\n",
        "### 🚀 Next Steps:\n",
        "- **Explore Attention**: Try `attention_hierarchical_processor.py` for attention-based processing\n",
        "- **Real Data**: Use `run_bci_experiment.py` for BCI Competition IV experiments  \n",
        "- **Model Comparison**: Run full comparisons between different approaches\n",
        "- **Research Applications**: Apply to your own EEG datasets\n",
        "\n",
        "### 💡 Key Takeaways:\n",
        "The HRM-EEG framework provides a principled approach to hierarchical brain signal processing, combining neuroscience insights with modern machine learning techniques!\n",
        "\n",
        "**Ready to dive deeper into the world of hierarchical EEG processing!** 🧠⚡🚀\n"
      ]
    }
  ],
  "metadata": {
    "kernelspec": {
      "display_name": "Python 3 (ipykernel)",
      "language": "python",
      "name": "python3"
    },
    "language_info": {
      "codemirror_mode": {
        "name": "ipython",
        "version": 3
      },
      "file_extension": ".py",
      "mimetype": "text/x-python",
      "name": "python",
      "nbconvert_exporter": "python",
      "pygments_lexer": "ipython3",
      "version": "3.11.6"
    }
  },
  "nbformat": 4,
  "nbformat_minor": 2
}
